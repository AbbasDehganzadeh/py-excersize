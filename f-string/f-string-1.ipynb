{
 "cells": [
  {
   "cell_type": "markdown",
   "metadata": {},
   "source": [
    "# string in python"
   ]
  },
  {
   "cell_type": "code",
   "execution_count": 2,
   "metadata": {},
   "outputs": [
    {
     "name": "stdout",
     "output_type": "stream",
     "text": [
      "I'm abbas, and I am 23 years old,\n",
      "I'm abbas, and I am 23 years old,\n",
      "I'm abbas, and I am 23 years old,\n"
     ]
    }
   ],
   "source": [
    "# different formatting in python\n",
    "name, age = 'abbas', 23\n",
    "print(\"I'm %s, and I am %d years old,\"  % (name ,age))\n",
    "print(\"I'm {}, and I am {} years old,\".format(name, age))\n",
    "print(f\"I'm {name}, and I am {age} years old,\")\n",
    "# output: I'm abbas, and I am 23 years old"
   ]
  },
  {
   "cell_type": "markdown",
   "metadata": {},
   "source": [
    "### formatting numbers"
   ]
  },
  {
   "cell_type": "code",
   "execution_count": 1,
   "metadata": {},
   "outputs": [
    {
     "name": "stdout",
     "output_type": "stream",
     "text": [
      "+10 and -10\n",
      "10 and -10\n"
     ]
    }
   ],
   "source": [
    "# number signs\n",
    "print(f\"{10:+} and {-10:+}\")    # +10 and -10\n",
    "print(f\"{10:-} and {-10:-}\")    # 10 and -10  ;default"
   ]
  },
  {
   "cell_type": "code",
   "execution_count": null,
   "metadata": {},
   "outputs": [
    {
     "name": "stdout",
     "output_type": "stream",
     "text": [
      "2,024\n",
      "1_403\n"
     ]
    }
   ],
   "source": [
    "# seperators\n",
    "print(f\"{2024:,}\")    # 2,024\n",
    "print(f\"{1403:_}\")    # 1_403"
   ]
  },
  {
   "cell_type": "code",
   "execution_count": 5,
   "metadata": {},
   "outputs": [
    {
     "name": "stdout",
     "output_type": "stream",
     "text": [
      "16.67% or 25.0%\n",
      "64.0, 129.50\n"
     ]
    }
   ],
   "source": [
    "# percentages, and floating number\n",
    "print(f\"{1/6:.2%} or {.25:.1%}\")  # 16.67% or 25.0%\n",
    "print(f\"{64:.1f}, {129.5:.2f}\")  # 64.5, 129.50"
   ]
  },
  {
   "cell_type": "code",
   "execution_count": 12,
   "metadata": {},
   "outputs": [
    {
     "name": "stdout",
     "output_type": "stream",
     "text": [
      "-0048.25\n",
      "-48.2500\n"
     ]
    }
   ],
   "source": [
    "# padding for numbers\n",
    "floating = -48.25\n",
    "print(f\"{floating:0=8}\")   # -00048.25\n",
    "print(f\"{floating:0<8}\")   # -48.25000"
   ]
  },
  {
   "cell_type": "code",
   "execution_count": 11,
   "metadata": {},
   "outputs": [
    {
     "name": "stdout",
     "output_type": "stream",
     "text": [
      "11111\n",
      "37\n",
      "31\n",
      "1f or 1F\n",
      "0o37\n",
      "0x1f or 0X1F\n"
     ]
    }
   ],
   "source": [
    "# binary, octal, decimal, and hexadecimal numbers\n",
    "number = 31\n",
    "print(f\"{number:b}\")                  # 11111\n",
    "print(f\"{number:o}\")                  # 37\n",
    "print(f\"{number:d}\")                  # 31 ;default\n",
    "print(f\"{number:x} or {number:X}\")    # 1f or 1F\n",
    "print(f\"{number:#o}\")                 # 0o37\n",
    "print(f\"{number:#x} or {number:#X}\")  # 0x1f or 0X1F"
   ]
  },
  {
   "cell_type": "markdown",
   "metadata": {},
   "source": [
    "### formatted string"
   ]
  },
  {
   "cell_type": "code",
   "execution_count": 14,
   "metadata": {},
   "outputs": [
    {
     "name": "stdout",
     "output_type": "stream",
     "text": [
      "     Python is fum\n",
      "Python is fum     \n",
      "  Python is fum   \n",
      "Python is fum??\n",
      "~Python is fum~\n"
     ]
    }
   ],
   "source": [
    "# padding for strings\n",
    "text = 'Python is fum'\n",
    "print(f\"{text:>18}\")   # `     Python is fum`\n",
    "print(f\"{text:<18}\")   # `Python is fum     `\n",
    "print(f\"{text:^18}\")   #   `Python is fum   `\n",
    "print(f\"{text:?<15}\")  # `Python is fum??`\n",
    "print(f\"{text:~^15}\")  # `~Python is fum~`"
   ]
  },
  {
   "cell_type": "markdown",
   "metadata": {},
   "source": [
    "### string conversion in formatting"
   ]
  },
  {
   "cell_type": "code",
   "execution_count": null,
   "metadata": {},
   "outputs": [
    {
     "name": "stdout",
     "output_type": "stream",
     "text": [
      "زبان Python\n",
      "'زبان Python'\n",
      "'\\u0632\\u0628\\u0627\\u0646 Python'\n"
     ]
    }
   ],
   "source": [
    "# conversions\n",
    "print(f\"{'زبان Python'!s}\")  # زبان Python\n",
    "print(f\"{'زبان Python'!r}\")  # 'زبان Python'\n",
    "print(f\"{'زبان Python'!a}\")  # '\\u0632\\u0628\\u0627\\u0646 Python'\n",
    "# `str` is for user, `repr` is for developer, and `ascii` is based on encoding."
   ]
  }
 ],
 "metadata": {
  "kernelspec": {
   "display_name": "Python 3",
   "language": "python",
   "name": "python3"
  },
  "language_info": {
   "codemirror_mode": {
    "name": "ipython",
    "version": 3
   },
   "file_extension": ".py",
   "mimetype": "text/x-python",
   "name": "python",
   "nbconvert_exporter": "python",
   "pygments_lexer": "ipython3",
   "version": "3.10.12"
  }
 },
 "nbformat": 4,
 "nbformat_minor": 2
}
